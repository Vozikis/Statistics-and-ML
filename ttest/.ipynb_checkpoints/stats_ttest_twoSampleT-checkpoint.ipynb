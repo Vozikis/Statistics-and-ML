{
 "cells": [
  {
   "cell_type": "markdown",
   "metadata": {},
   "source": [
    "# COURSE: Master statistics and machine learning: Intuition, Math, code\n",
    "##### COURSE URL: udemy.com/course/statsml_x/?couponCode=202006 \n",
    "## SECTION: The t-test family\n",
    "### VIDEO: Two-samples t-test\n",
    "#### TEACHER: Mike X Cohen, sincxpress.com"
   ]
  },
  {
   "cell_type": "code",
   "execution_count": 1,
   "metadata": {},
   "outputs": [],
   "source": [
    "# import libraries\n",
    "import matplotlib.pyplot as plt\n",
    "import numpy as np\n",
    "import scipy.stats as stats"
   ]
  },
  {
   "cell_type": "code",
   "execution_count": 2,
   "metadata": {},
   "outputs": [
    {
     "data": {
      "image/png": "[encoded data removed]",
      "text/plain": [
       "<Figure size 640x480 with 1 Axes>"
      ]
     },
     "metadata": {},
     "output_type": "display_data"
    }
   ],
   "source": [
    "## generate the data\n",
    "\n",
    "# parameters\n",
    "n1 = 30   # samples in dataset 1\n",
    "n2 = 40   # ...and 2\n",
    "mu1 = 1   # population mean in dataset 1\n",
    "mu2 = 1.2 # population mean in dataset 2\n",
    "\n",
    "\n",
    "# generate the data\n",
    "data1 = mu1 + np.random.randn(n1)\n",
    "data2 = mu2 + np.random.randn(n2)\n",
    "\n",
    "# show their histograms\n",
    "plt.hist(data1,bins='fd',color=[1,0,0,.5],label='Data 1')\n",
    "plt.hist(data2,bins='fd',color=[0,0,1,.5],label='Data 2')\n",
    "plt.xlabel('Data value')\n",
    "plt.ylabel('Count')\n",
    "plt.legend()\n",
    "plt.show()"
   ]
  },
  {
   "cell_type": "code",
   "execution_count": null,
   "metadata": {},
   "outputs": [],
   "source": [
    "## now for the t-test\n",
    "\n",
    "t,p = stats.ttest_ind(data1,data2,equal_var=True)\n",
    "\n",
    "df = n1+n2-2\n",
    "print('t(%g) = %g, p=%g'%(df,t,p))"
   ]
  },
  {
   "cell_type": "code",
   "execution_count": null,
   "metadata": {},
   "outputs": [],
   "source": [
    "## a 2D space of t values\n",
    "\n",
    "# ranges for t-value parameters\n",
    "meandiffs = np.linspace(-3,3,80)\n",
    "pooledvar = np.linspace(.5,4,100)\n",
    "\n",
    "# group sample size\n",
    "n1 = 40\n",
    "n2 = 30\n",
    "\n",
    "# initialize output matrix\n",
    "allTvals = np.zeros((len(meandiffs),len(pooledvar)))\n",
    "\n",
    "# loop over the parameters...\n",
    "for meani in range(len(meandiffs)):\n",
    "    for vari in range(len(pooledvar)):\n",
    "        \n",
    "        # t-value denominator\n",
    "        df = n1 + n2 - 2\n",
    "        s  = np.sqrt(( (n1-1)*pooledvar[vari] + (n2-1)*pooledvar[vari]) / df)\n",
    "        t_den = s * np.sqrt(1/n1 + 1/n2)\n",
    "        \n",
    "        # t-value in the matrix\n",
    "        allTvals[meani,vari] = meandiffs[meani] / t_den\n",
    "\n",
    "        \n",
    "plt.imshow(allTvals,vmin=-4,vmax=4,extent=[pooledvar[0],pooledvar[-1],meandiffs[0],meandiffs[-1]],aspect='auto')\n",
    "plt.xlabel('Variance')\n",
    "plt.ylabel('Mean differences')\n",
    "plt.colorbar()\n",
    "plt.title('t-values as a function of difference and variance')\n",
    "plt.show()"
   ]
  }
 ],
 "metadata": {
  "kernelspec": {
   "display_name": "Python 3 (ipykernel)",
   "language": "python",
   "name": "python3"
  },
  "language_info": {
   "codemirror_mode": {
    "name": "ipython",
    "version": 3
   },
   "file_extension": ".py",
   "mimetype": "text/x-python",
   "name": "python",
   "nbconvert_exporter": "python",
   "pygments_lexer": "ipython3",
   "version": "3.8.13"
  }
 },
 "nbformat": 4,
 "nbformat_minor": 2
}
