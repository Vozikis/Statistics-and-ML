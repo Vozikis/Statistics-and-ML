{
 "cells": [
  {
   "cell_type": "markdown",
   "metadata": {},
   "source": [
    "# COURSE: Master statistics and machine learning: Intuition, Math, code\n",
    "##### COURSE URL: udemy.com/course/statsml_x/?couponCode=202006 \n",
    "## SECTION: Descriptive statistics\n",
    "### VIDEO: Inter-quartile range (IQR)\n",
    "#### TEACHER: Mike X Cohen, sincxpress.com"
   ]
  },
  {
   "cell_type": "code",
   "execution_count": 1,
   "metadata": {},
   "outputs": [],
   "source": [
    "# import libraries\n",
    "import matplotlib.pyplot as plt\n",
    "import numpy as np\n",
    "import scipy.stats as stats"
   ]
  },
  {
   "cell_type": "code",
   "execution_count": 14,
   "metadata": {},
   "outputs": [
    {
     "data": {
      "text/plain": [
       "(array([527., 149., 100.,  62.,  40.,  37.,  21.,  17.,  11.,   6.,   6.,\n",
       "          6.,   2.,   4.,   3.,   1.,   3.,   3.,   0.,   1.,   0.,   0.,\n",
       "          0.,   0.,   0.,   0.,   0.,   0.,   0.,   1.]),\n",
       " array([6.37055162e-07, 4.58092812e-01, 9.16184987e-01, 1.37427716e+00,\n",
       "        1.83236934e+00, 2.29046151e+00, 2.74855369e+00, 3.20664586e+00,\n",
       "        3.66473804e+00, 4.12283021e+00, 4.58092239e+00, 5.03901456e+00,\n",
       "        5.49710674e+00, 5.95519891e+00, 6.41329109e+00, 6.87138326e+00,\n",
       "        7.32947544e+00, 7.78756761e+00, 8.24565979e+00, 8.70375196e+00,\n",
       "        9.16184414e+00, 9.61993631e+00, 1.00780285e+01, 1.05361207e+01,\n",
       "        1.09942128e+01, 1.14523050e+01, 1.19103972e+01, 1.23684894e+01,\n",
       "        1.28265815e+01, 1.32846737e+01, 1.37427659e+01]),\n",
       " <BarContainer object of 30 artists>)"
      ]
     },
     "execution_count": 14,
     "metadata": {},
     "output_type": "execute_result"
    },
    {
     "data": {
      "image/png": "[encoded data removed]",
      "text/plain": [
       "<Figure size 640x480 with 1 Axes>"
      ]
     },
     "metadata": {},
     "output_type": "display_data"
    }
   ],
   "source": [
    "## create the data\n",
    "\n",
    "# random number data\n",
    "n = 1000\n",
    "data = np.random.randn(n)**2\n",
    "#1000 thousand normaly distributed numbers\n",
    "#plt.plot(data,'p') small pentagons\n",
    "plt.hist(data,bins=30)"
   ]
  },
  {
   "cell_type": "code",
   "execution_count": 18,
   "metadata": {},
   "outputs": [
    {
     "name": "stdout",
     "output_type": "stream",
     "text": [
      "1.1434081938431695 1.1442749124853195\n"
     ]
    }
   ],
   "source": [
    "# rank-transform the data and scale to 1\n",
    "dataR = stats.rankdata(data)/n\n",
    "\n",
    "# find the values closest to 25% and 75% of the distribution\n",
    "#which means find the points closer to the 25% and 75%\n",
    "q1 = np.argmin((dataR-.25)**2)#get the closest number where dataR-.25 is closer to 0 and \n",
    "#square it so we can get rid of the negative numbers. we have normalized. so the data is \n",
    "#between 0 and 1 which means that 0.25 is the 25%\n",
    "q3 = np.argmin((dataR-.75)**2)\n",
    "\n",
    "# get the two values in the data\n",
    "iq_vals = data[[q1,q3]]\n",
    "#we only need to run the code above if we need the actual values of iq_vals[1] - iq_vals[0]\n",
    "\n",
    "# IQR is the difference between them\n",
    "iqrange1 = iq_vals[1] - iq_vals[0]\n",
    "\n",
    "# or use Python's built-in function ;)\n",
    "iqrange2 = stats.iqr(data) #stats function within the stats library\n",
    "\n",
    "print(iqrange1,iqrange2)"
   ]
  },
  {
   "cell_type": "code",
   "execution_count": null,
   "metadata": {},
   "outputs": [],
   "source": []
  }
 ],
 "metadata": {
  "kernelspec": {
   "display_name": "Python 3 (ipykernel)",
   "language": "python",
   "name": "python3"
  },
  "language_info": {
   "codemirror_mode": {
    "name": "ipython",
    "version": 3
   },
   "file_extension": ".py",
   "mimetype": "text/x-python",
   "name": "python",
   "nbconvert_exporter": "python",
   "pygments_lexer": "ipython3",
   "version": "3.8.13"
  }
 },
 "nbformat": 4,
 "nbformat_minor": 2
}
