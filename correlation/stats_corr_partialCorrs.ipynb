{
 "cells": [
  {
   "cell_type": "markdown",
   "metadata": {},
   "source": [
    "# COURSE: Master statistics and machine learning: Intuition, Math, code\n",
    "##### COURSE URL: udemy.com/course/statsml_x/?couponCode=202006 \n",
    "## SECTION: Correlation\n",
    "### VIDEO: Partial correlations\n",
    "#### TEACHER: Mike X Cohen, sincxpress.com"
   ]
  },
  {
   "cell_type": "code",
   "execution_count": 1,
   "metadata": {},
   "outputs": [],
   "source": [
    "# import libraries\n",
    "import matplotlib.pyplot as plt\n",
    "import numpy as np\n",
    "import pandas as pd\n",
    "import scipy.stats as stats"
   ]
  },
  {
   "cell_type": "code",
   "execution_count": 3,
   "metadata": {},
   "outputs": [],
   "source": [
    "# I'm using pingouin for partial correlations.\n",
    "# You might need to install it, e.g., using the line below.\n",
    "# This needs to be run only once per install.\n",
    "# conda install -c conda-forge pingouin\n",
    "import pingouin as pg"
   ]
  },
  {
   "cell_type": "code",
   "execution_count": 5,
   "metadata": {},
   "outputs": [
    {
     "name": "stdout",
     "output_type": "stream",
     "text": [
      "-0.07647191129018778\n",
      "0.5461186812727504\n"
     ]
    }
   ],
   "source": [
    "## the example from the video\n",
    "\n",
    "# raw correlations\n",
    "rmg = .7\n",
    "rsg = .8\n",
    "rms = .9\n",
    "\n",
    "# partial correlations\n",
    "rho_mg_s = (rmg - rsg*rms) / ( np.sqrt(1-rsg**2)*np.sqrt(1-rms**2) )\n",
    "rho_sg_m = (rsg - rmg*rms) / ( np.sqrt(1-rmg**2)*np.sqrt(1-rms**2) )\n",
    "\n",
    "print(rho_mg_s)\n",
    "print(rho_sg_m)"
   ]
  },
  {
   "cell_type": "code",
   "execution_count": 7,
   "metadata": {},
   "outputs": [
    {
     "name": "stdout",
     "output_type": "stream",
     "text": [
      "          x1        x2        x3\n",
      "x1  1.000000  0.942966  0.942104\n",
      "x2  0.942966  1.000000  0.866944\n",
      "x3  0.942104  0.866944  1.000000\n",
      " \n",
      "0.9429660915959607\n",
      " \n",
      "          n         r         CI95%     p-val\n",
      "pearson  76 -0.191962  [-0.4, 0.04]  0.098963\n"
     ]
    }
   ],
   "source": [
    "## now for datasets\n",
    "\n",
    "N = 76\n",
    "\n",
    "# correlated datasets\n",
    "x1 = np.linspace(1,10,N) + np.random.randn(N)\n",
    "x2 = x1 + np.random.randn(N)\n",
    "x3 = x1 + np.random.randn(N)\n",
    "\n",
    "# let's convert these data to a pandas frame\n",
    "df = pd.DataFrame()\n",
    "df['x1'] = x1\n",
    "df['x2'] = x2\n",
    "df['x3'] = x3\n",
    "\n",
    "# compute the \"raw\" correlation matrix\n",
    "cormatR = df.corr()\n",
    "print(cormatR)\n",
    "\n",
    "# print out one value\n",
    "print(' ')\n",
    "print(cormatR.values[1,0])\n",
    "\n",
    "# partial correlation\n",
    "pc = pg.partial_corr(df,x='x3',y='x2',covar='x1') #compute the partial correlation of x3 and x2\n",
    "#when partialing out x1\n",
    "print(' ')\n",
    "print(pc)"
   ]
  },
  {
   "cell_type": "code",
   "execution_count": 8,
   "metadata": {},
   "outputs": [
    {
     "data": {
      "image/png": "[encoded data removed]",
      "text/plain": [
       "<Figure size 600x300 with 2 Axes>"
      ]
     },
     "metadata": {},
     "output_type": "display_data"
    }
   ],
   "source": [
    "## visualize the matrices\n",
    "\n",
    "fig,ax = plt.subplots(1,2,figsize=(6,3))\n",
    "\n",
    "# raw correlations\n",
    "ax[0].imshow(cormatR.values,vmin=-1,vmax=1)\n",
    "ax[0].set_xticks(range(3))\n",
    "ax[0].set_yticks(range(3))\n",
    "\n",
    "# add text \n",
    "for i in range(3):\n",
    "    for j in range(3):\n",
    "        ax[0].text(i,j,np.round(cormatR.values[i,j],2), horizontalalignment='center')\n",
    "\n",
    "        \n",
    "        \n",
    "# partial correlations\n",
    "partialCorMat = df.pcorr()\n",
    "ax[1].imshow(partialCorMat.values,vmin=-1,vmax=1)\n",
    "ax[1].set_xticks(range(3))\n",
    "ax[1].set_yticks(range(3))\n",
    "\n",
    "for i in range(3):\n",
    "    for j in range(3):\n",
    "        ax[1].text(i,j,np.round(partialCorMat.values[i,j],2), horizontalalignment='center')\n",
    "\n",
    "\n",
    "plt.show()"
   ]
  },
  {
   "cell_type": "code",
   "execution_count": null,
   "metadata": {},
   "outputs": [],
   "source": []
  }
 ],
 "metadata": {
  "kernelspec": {
   "display_name": "Python 3 (ipykernel)",
   "language": "python",
   "name": "python3"
  },
  "language_info": {
   "codemirror_mode": {
    "name": "ipython",
    "version": 3
   },
   "file_extension": ".py",
   "mimetype": "text/x-python",
   "name": "python",
   "nbconvert_exporter": "python",
   "pygments_lexer": "ipython3",
   "version": "3.8.13"
  }
 },
 "nbformat": 4,
 "nbformat_minor": 2
}
