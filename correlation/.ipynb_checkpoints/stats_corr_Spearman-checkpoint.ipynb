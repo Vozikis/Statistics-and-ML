{
 "cells": [
  {
   "cell_type": "markdown",
   "metadata": {},
   "source": [
    "# COURSE: Master statistics and machine learning: Intuition, Math, code\n",
    "##### COURSE URL: udemy.com/course/statsml_x/?couponCode=202006 \n",
    "## SECTION: Correlation\n",
    "### VIDEO: Spearman correlation and Fisher-Z\n",
    "#### TEACHER: Mike X Cohen, sincxpress.com"
   ]
  },
  {
   "cell_type": "code",
   "execution_count": 1,
   "metadata": {},
   "outputs": [],
   "source": [
    "# import libraries\n",
    "import matplotlib.pyplot as plt\n",
    "import numpy as np\n",
    "import scipy.stats as stats"
   ]
  },
  {
   "cell_type": "code",
   "execution_count": 3,
   "metadata": {},
   "outputs": [
    {
     "data": {
      "image/png": "[encoded data removed]",
      "text/plain": [
       "<Figure size 600x600 with 4 Axes>"
      ]
     },
     "metadata": {},
     "output_type": "display_data"
    }
   ],
   "source": [
    "## Anscobe's quartet\n",
    "\n",
    "anscombe = np.array([\n",
    "     # series 1     series 2      series 3       series 4\n",
    "    [10,  8.04,    10,  9.14,    10,  7.46,      8,  6.58, ],\n",
    "    [ 8,  6.95,     8,  8.14,     8,  6.77,      8,  5.76, ],\n",
    "    [13,  7.58,    13,  8.76,    13, 12.74,      8,  7.71, ],\n",
    "    [ 9,  8.81,     9,  8.77,     9,  7.11,      8,  8.84, ],\n",
    "    [11,  8.33,    11,  9.26,    11,  7.81,      8,  8.47, ],\n",
    "    [14,  9.96,    14,  8.10,    14,  8.84,      8,  7.04, ],\n",
    "    [ 6,  7.24,     6,  6.13,     6,  6.08,      8,  5.25, ],\n",
    "    [ 4,  4.26,     4,  3.10,     4,  5.39,      8,  5.56, ],\n",
    "    [12, 10.84,    12,  9.13,    12,  8.15,      8,  7.91, ],\n",
    "    [ 7,  4.82,     7,  7.26,     7,  6.42,      8,  6.89, ],\n",
    "    [ 5,  5.68,     5,  4.74,     5,  5.73,     19, 12.50, ]\n",
    "    ])\n",
    "\n",
    "\n",
    "# plot and compute correlations\n",
    "fig,ax = plt.subplots(2,2,figsize=(6,6))\n",
    "ax = ax.ravel()\n",
    "\n",
    "for i in range(4):\n",
    "    ax[i].plot(anscombe[:,i*2],anscombe[:,i*2+1],'ko')\n",
    "    ax[i].set_xticks([])\n",
    "    ax[i].set_yticks([])\n",
    "    corr_p = stats.pearsonr(anscombe[:,i*2],anscombe[:,i*2+1])[0]\n",
    "    corr_s = stats.spearmanr(anscombe[:,i*2],anscombe[:,i*2+1])[0]\n",
    "    ax[i].set_title('r_p = %g, r_s = %g'%(np.round(corr_p*100)/100,np.round(corr_s*100)/100))\n",
    "\n",
    "plt.show()"
   ]
  },
  {
   "cell_type": "code",
   "execution_count": null,
   "metadata": {},
   "outputs": [],
   "source": [
    "## Fisher-Z transform\n",
    "\n",
    "\n",
    "# simulate correlation coefficients\n",
    "N = 10000\n",
    "r = 2*np.random.rand(N) - 1\n",
    "\n",
    "# Fisher-Z\n",
    "fz = np.arctanh(r)\n",
    "\n",
    "\n",
    "\n",
    "# overlay the Fisher-Z\n",
    "y,x = np.histogram(fz,30)\n",
    "x = (x[1:]+x[0:-1])/2\n",
    "plt.bar(x,y)\n",
    "\n",
    "# raw correlations\n",
    "y,x = np.histogram(r,30)\n",
    "x = (x[1:]+x[0:-1])/2\n",
    "plt.bar(x,y)\n",
    "\n",
    "\n",
    "plt.xlabel('r / f')\n",
    "plt.ylabel('Count')\n",
    "plt.legend(('Fisher-Z','Raw r'))\n",
    "\n",
    "plt.show()"
   ]
  },
  {
   "cell_type": "code",
   "execution_count": null,
   "metadata": {},
   "outputs": [],
   "source": [
    "plt.plot(range(N),np.sort(r), 'o',markerfacecolor='w',markersize=7)\n",
    "plt.plot(range(N),np.sort(fz),'o',markerfacecolor='w',markersize=7)\n",
    "plt.ylabel('Value')\n",
    "plt.legend(('Correlation','Fisher-Z'))\n",
    "\n",
    "# zoom in\n",
    "plt.ylim([-.8,.8])\n",
    "plt.show()"
   ]
  }
 ],
 "metadata": {
  "kernelspec": {
   "display_name": "Python 3 (ipykernel)",
   "language": "python",
   "name": "python3"
  },
  "language_info": {
   "codemirror_mode": {
    "name": "ipython",
    "version": 3
   },
   "file_extension": ".py",
   "mimetype": "text/x-python",
   "name": "python",
   "nbconvert_exporter": "python",
   "pygments_lexer": "ipython3",
   "version": "3.8.13"
  }
 },
 "nbformat": 4,
 "nbformat_minor": 2
}
