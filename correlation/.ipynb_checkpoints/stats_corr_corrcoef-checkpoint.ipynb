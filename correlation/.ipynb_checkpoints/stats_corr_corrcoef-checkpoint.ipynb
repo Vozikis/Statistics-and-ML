{
 "cells": [
  {
   "cell_type": "markdown",
   "metadata": {},
   "source": [
    "# COURSE: Master statistics and machine learning: Intuition, Math, code\n",
    "##### COURSE URL: udemy.com/course/statsml_x/?couponCode=202006 \n",
    "## SECTION: Correlation\n",
    "### VIDEO: Correlation coefficient\n",
    "#### TEACHER: Mike X Cohen, sincxpress.com"
   ]
  },
  {
   "cell_type": "code",
   "execution_count": 1,
   "metadata": {},
   "outputs": [],
   "source": [
    "# import libraries\n",
    "import matplotlib.pyplot as plt\n",
    "import numpy as np\n",
    "import scipy.stats as stats"
   ]
  },
  {
   "cell_type": "code",
   "execution_count": 3,
   "metadata": {},
   "outputs": [
    {
     "data": {
      "image/png": "[encoded data removed]",
      "text/plain": [
       "<Figure size 640x480 with 1 Axes>"
      ]
     },
     "metadata": {},
     "output_type": "display_data"
    }
   ],
   "source": [
    "## simulate data\n",
    "\n",
    "N = 66\n",
    "\n",
    "# generate correlated data\n",
    "#best way to simulate correlated data\n",
    "x = np.random.randn(N)\n",
    "y = x + np.random.randn(N) #the more i increase the noise the less correlation we have.\n",
    "\n",
    "# plot the data\n",
    "plt.plot(x,y,'kp',markerfacecolor='b',markersize=12)\n",
    "plt.xlabel('Variable X')\n",
    "plt.ylabel('Variable Y')\n",
    "plt.xticks([])\n",
    "plt.yticks([])\n",
    "plt.show()"
   ]
  },
  {
   "cell_type": "code",
   "execution_count": 5,
   "metadata": {},
   "outputs": [
    {
     "name": "stdout",
     "output_type": "stream",
     "text": [
      "0.9800147033335943 0.9800147033335942 [[0.96705018 0.9800147 ]\n",
      " [0.9800147  2.04576793]]\n"
     ]
    }
   ],
   "source": [
    "## compute covariance\n",
    "\n",
    "# precompute the means\n",
    "meanX = np.mean(x)\n",
    "meanY = np.mean(y)\n",
    "\n",
    "### the loop method\n",
    "covar1 = 0\n",
    "for i in range(N):\n",
    "    covar1 = covar1 + (x[i]-meanX)*(y[i]-meanY)\n",
    "    \n",
    "\n",
    "# and now for the normalization\n",
    "covar1 = covar1/(N-1)\n",
    "\n",
    "### the linear algebra method\n",
    "xCent = x-meanX #center version of x \n",
    "yCent = y-meanY\n",
    "covar2 = np.dot(xCent,yCent) / (N-1)\n",
    "\n",
    "### the Python method\n",
    "covar3 = np.cov(np.vstack((x,y))) #stacking the vectors into a matrix\n",
    "#cov takes a matrix where first  column is x and second is y\n",
    "#covar3 returns also the variance of x and y on the diagonal\n",
    "print(covar1,covar2,covar3)"
   ]
  },
  {
   "cell_type": "code",
   "execution_count": 6,
   "metadata": {},
   "outputs": [
    {
     "name": "stdout",
     "output_type": "stream",
     "text": [
      "0.6967546930130348 [[1.         0.69675469]\n",
      " [0.69675469 1.        ]]\n"
     ]
    }
   ],
   "source": [
    "## now for correlation\n",
    "\n",
    "### the long method\n",
    "corr_num = sum( (x-meanX) * (y-meanY) )\n",
    "corr_den = sum((x-meanX)**2) * sum((y-meanY)**2)\n",
    "corr1 = corr_num/np.sqrt(corr_den)\n",
    "\n",
    "\n",
    "### the Python method\n",
    "corr2 = np.corrcoef(np.vstack((x,y)))\n",
    "\n",
    "print(corr1,corr2)"
   ]
  },
  {
   "cell_type": "code",
   "execution_count": null,
   "metadata": {},
   "outputs": [],
   "source": [
    "## correlation as normalized covariance\n",
    "\n",
    "xn = stats.zscore(x,ddof=1)\n",
    "yn = stats.zscore(y)\n",
    "\n",
    "corr3 = np.dot(xn,yn) / (N-1)\n",
    "\n",
    "print(corr3)"
   ]
  },
  {
   "cell_type": "code",
   "execution_count": null,
   "metadata": {},
   "outputs": [],
   "source": [
    "## 2D t-value space based on r and n\n",
    "\n",
    "# define parameters\n",
    "r = np.linspace(-1,1,248)\n",
    "n = np.round( np.linspace(5,200,73) )\n",
    "\n",
    "# initialize t-value matrix\n",
    "tmatrix = np.zeros((len(r),len(n)))\n",
    "pmatrix = np.zeros((len(r),len(n)))\n",
    "\n",
    "for ri in range(len(r)):\n",
    "    for ni in range(len(n)):\n",
    "        \n",
    "        # the t-value, split into num/den\n",
    "        num = r[ri]*np.sqrt(n[ni]-2)\n",
    "        den = 1-r[ri]**2\n",
    "        \n",
    "        tmatrix[ri,ni] = num/den\n",
    "        pmatrix[ri,ni] = 1-stats.t.cdf(abs(num/den),n[ni]-2)\n",
    "\n",
    "        \n",
    "        \n",
    "# Soooo curious to see it!\n",
    "plt.imshow(tmatrix,vmin=-3,vmax=3,extent=[n[0],n[-1],r[0],r[-1]],aspect='auto',origin='lower')\n",
    "plt.contour(pmatrix<.05,1,colors='k',extent=[n[0],n[-1],r[0],r[-1]])\n",
    "plt.xlabel('Sample size')\n",
    "plt.ylabel('Correlation coefficient')\n",
    "plt.title('T-values from different r-n combos')\n",
    "plt.show()\n",
    "\n",
    "# question: Why the warning message?"
   ]
  },
  {
   "cell_type": "code",
   "execution_count": null,
   "metadata": {},
   "outputs": [],
   "source": [
    "# final note on statistical significance\n",
    "\n",
    "r,p = stats.pearsonr(x,y)\n",
    "print(r,p)"
   ]
  }
 ],
 "metadata": {
  "kernelspec": {
   "display_name": "Python 3 (ipykernel)",
   "language": "python",
   "name": "python3"
  },
  "language_info": {
   "codemirror_mode": {
    "name": "ipython",
    "version": 3
   },
   "file_extension": ".py",
   "mimetype": "text/x-python",
   "name": "python",
   "nbconvert_exporter": "python",
   "pygments_lexer": "ipython3",
   "version": "3.8.13"
  }
 },
 "nbformat": 4,
 "nbformat_minor": 2
}
